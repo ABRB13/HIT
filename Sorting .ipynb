{
 "cells": [
  {
   "cell_type": "code",
   "execution_count": 6,
   "id": "52376a9c",
   "metadata": {},
   "outputs": [],
   "source": [
    "#bubble_sort \n",
    "\n",
    "\n",
    "a = [6 ,5 ,1 , 3]"
   ]
  },
  {
   "cell_type": "code",
   "execution_count": null,
   "id": "dabaaf3c",
   "metadata": {},
   "outputs": [],
   "source": []
  },
  {
   "cell_type": "code",
   "execution_count": 2,
   "id": "9f12e0df",
   "metadata": {},
   "outputs": [],
   "source": [
    "a = set(a)"
   ]
  },
  {
   "cell_type": "code",
   "execution_count": 3,
   "id": "6e6f2438",
   "metadata": {},
   "outputs": [
    {
     "data": {
      "text/plain": [
       "{1, 3, 5, 6}"
      ]
     },
     "execution_count": 3,
     "metadata": {},
     "output_type": "execute_result"
    }
   ],
   "source": [
    "a"
   ]
  },
  {
   "cell_type": "code",
   "execution_count": null,
   "id": "0fc2a704",
   "metadata": {},
   "outputs": [],
   "source": [
    "timecomplexity of bubble sort is worst"
   ]
  },
  {
   "cell_type": "code",
   "execution_count": 11,
   "id": "0d1c6a2b",
   "metadata": {},
   "outputs": [
    {
     "name": "stdout",
     "output_type": "stream",
     "text": [
      "[1, 3, 5, 6]\n",
      "[1, 3, 5, 6]\n",
      "[1, 3, 5, 6]\n",
      "0.0\n"
     ]
    },
    {
     "data": {
      "text/plain": [
       "'[1, 3, 5, 6] \\n Number of comparisons = 6'"
      ]
     },
     "execution_count": 11,
     "metadata": {},
     "output_type": "execute_result"
    }
   ],
   "source": [
    "bubble_sort(a)"
   ]
  },
  {
   "cell_type": "code",
   "execution_count": null,
   "id": "5f4d664d",
   "metadata": {},
   "outputs": [],
   "source": [
    "a = [5, 10, 3, 7, 9, 1, 3, 5, 9, 1000, 300, 500]"
   ]
  },
  {
   "cell_type": "code",
   "execution_count": 30,
   "id": "1ce1e16b",
   "metadata": {},
   "outputs": [],
   "source": [
    "#Datastructures and algorithm \n",
    "\n",
    "#arrays\n",
    "    #\n",
    "#grahs\n",
    " #un\n",
    "#hash tables\n",
    "#linked lists \n",
    "#queues\n",
    "#stacks\n",
    "#trees \n",
    "\n",
    "class Graph():\n",
    "    def __init__(self):\n",
    "        self.number_of_nodes = 0\n",
    "        self.adjacency_list = {}\n",
    "        \n",
    "    def insert_nodes(self, data):\n",
    "        if data not in self.adjacency_list:\n",
    "            self.adjacency_list[data] = []\n",
    "            self.number_of_nodes += 1\n",
    "            return \n",
    "        \n",
    "        \n",
    "    def insert_edge(self, vertex1, vertex2):\n",
    "        if vertex2 not in self.adjacency_list[vertex1]:\n",
    "            self.adjacency_list[vertex1].append(vertex2)\n",
    "            self.adjacency_list[vertex1].append(vertex1)\n",
    "            return\n",
    "        return \"edge already exists\" \n",
    "    \n",
    "    def show_connections(self):\n",
    "        for node in self.adjacency_list:\n",
    "            print(f'{node} -->> {\"\".join(map(str, self.adjacency_list[node]))}')\n",
    "    \n"
   ]
  },
  {
   "cell_type": "code",
   "execution_count": 31,
   "id": "ca7b5a89",
   "metadata": {},
   "outputs": [],
   "source": [
    "my_graph = Graph()"
   ]
  },
  {
   "cell_type": "code",
   "execution_count": 34,
   "id": "6aff299f",
   "metadata": {},
   "outputs": [],
   "source": [
    "my_graph.insert_nodes(1)"
   ]
  },
  {
   "cell_type": "code",
   "execution_count": 35,
   "id": "70af1b0b",
   "metadata": {},
   "outputs": [],
   "source": [
    "my_graph.insert_nodes(2)"
   ]
  },
  {
   "cell_type": "code",
   "execution_count": 36,
   "id": "67c635f3",
   "metadata": {},
   "outputs": [],
   "source": [
    "my_graph.insert_nodes(3)"
   ]
  },
  {
   "cell_type": "code",
   "execution_count": 38,
   "id": "ccac1961",
   "metadata": {},
   "outputs": [],
   "source": [
    "my_graph.insert_edge(1, 2)"
   ]
  },
  {
   "cell_type": "code",
   "execution_count": 39,
   "id": "e70452e8",
   "metadata": {},
   "outputs": [],
   "source": [
    "my_graph.insert_edge(1, 3)"
   ]
  },
  {
   "cell_type": "code",
   "execution_count": 41,
   "id": "e4b9f8c1",
   "metadata": {},
   "outputs": [],
   "source": [
    "my_graph.insert_edge(2, 3)"
   ]
  },
  {
   "cell_type": "code",
   "execution_count": 42,
   "id": "3101c7e1",
   "metadata": {},
   "outputs": [
    {
     "name": "stdout",
     "output_type": "stream",
     "text": [
      "1 -->> 2131\n",
      "2 -->> 32\n",
      "3 -->> \n"
     ]
    }
   ],
   "source": [
    "my_graph.show_connections()"
   ]
  },
  {
   "cell_type": "code",
   "execution_count": 43,
   "id": "8678a5d3",
   "metadata": {},
   "outputs": [
    {
     "name": "stdout",
     "output_type": "stream",
     "text": [
      "{1: [2, 1, 3, 1], 2: [3, 2], 3: []}\n"
     ]
    }
   ],
   "source": [
    "print(my_graph.adjacency_list)"
   ]
  },
  {
   "cell_type": "code",
   "execution_count": null,
   "id": "c6cbe88c",
   "metadata": {},
   "outputs": [],
   "source": [
    "#heap sort \n",
    "\n",
    "its segments the list into sorted and unsorted parts \n",
    "\n",
    "\n",
    "[3, 4 ,5 ,9, 1]"
   ]
  },
  {
   "cell_type": "code",
   "execution_count": null,
   "id": "9a48a312",
   "metadata": {},
   "outputs": [],
   "source": [
    "def heap(nums, heap_size, root_index):\n",
    "    #assume that he index of the largest element is the root index \n",
    "    large = root_index\n",
    "    left_child = (2 * root_index)\n",
    "    right_child"
   ]
  },
  {
   "cell_type": "code",
   "execution_count": 10,
   "id": "3e13838f",
   "metadata": {},
   "outputs": [],
   "source": [
    "def bubble_sort(array):\n",
    "    import time\n",
    "    count = 0\n",
    "    t0 = time.time()\n",
    "    for i in range(len(array) - 1): #6\n",
    "        print(array)\n",
    "        for j in range(len(array) - i - 1):\n",
    "            count += 1\n",
    "            if array[j] > array[j+1]: #6 > 5\n",
    "                array[j], array[j+1] = array[j+1], array[j] #6, 5 = 5, 6\n",
    "    t1 = time.time()\n",
    "    t2 = t0 - t1\n",
    "    print(t2)\n",
    "    return(f'{array} \\n Number of comparisons = {count}')\n",
    "        "
   ]
  },
  {
   "cell_type": "code",
   "execution_count": null,
   "id": "342ac58f",
   "metadata": {},
   "outputs": [],
   "source": [
    "#insertion sort \n",
    "\n",
    "def insert_sort(num_list):\n",
    "    for num in range(1, len(num_list)):\n",
    "        print(num_list)\n",
    "        last_sorted_position = num_list[num - 1] #we storing the last element which is sorted\n",
    "        count += 1\n",
    "        if num_list[i] < last_sorted_position: # we check if the current is \n",
    "            cache = num_list[i]\n",
    "            for j in range(i - 1, -1, -1): #looping backwards\n",
    "                count += 1\n",
    "                if cache < num_list[j]: \n",
    "                    if j == 0:\n",
    "                        num_list[j+1] = num_list[j]\n",
    "                        num_list[j] = cache \n",
    "                        \n",
    "                        \n",
    "                        \n",
    "                        "
   ]
  }
 ],
 "metadata": {
  "kernelspec": {
   "display_name": "Python 3 (ipykernel)",
   "language": "python",
   "name": "python3"
  },
  "language_info": {
   "codemirror_mode": {
    "name": "ipython",
    "version": 3
   },
   "file_extension": ".py",
   "mimetype": "text/x-python",
   "name": "python",
   "nbconvert_exporter": "python",
   "pygments_lexer": "ipython3",
   "version": "3.9.13"
  }
 },
 "nbformat": 4,
 "nbformat_minor": 5
}
