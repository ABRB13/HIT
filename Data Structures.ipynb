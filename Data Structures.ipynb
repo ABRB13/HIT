{
 "cells": [
  {
   "cell_type": "code",
   "execution_count": 1,
   "id": "18bb0b30",
   "metadata": {},
   "outputs": [],
   "source": [
    "import time "
   ]
  },
  {
   "cell_type": "code",
   "execution_count": 2,
   "id": "f0c5e89c",
   "metadata": {},
   "outputs": [],
   "source": [
    "array_small = ['a' for i in range(10)]\n",
    "array_large = ['a' for i in range(100)]"
   ]
  },
  {
   "cell_type": "code",
   "execution_count": 7,
   "id": "e48c1521",
   "metadata": {},
   "outputs": [],
   "source": [
    "def find_a(array):\n",
    "    t0 = time.time()\n",
    "    for i in range(0, len(array)):\n",
    "        if array[i] == 'a':\n",
    "            print('found a')\n",
    "    t1 = time.time()\n",
    "    print(f'time taken = {t1 - t0}')"
   ]
  },
  {
   "cell_type": "code",
   "execution_count": null,
   "id": "c31f3e64",
   "metadata": {},
   "outputs": [],
   "source": []
  },
  {
   "cell_type": "code",
   "execution_count": null,
   "id": "adcbd501",
   "metadata": {},
   "outputs": [],
   "source": [
    "Linear \n",
    "binary\n",
    "alternative binary\n",
    "sequential search\n",
    "hashing ****** blockchain networks, distributed file systems (decentralized)\n"
   ]
  },
  {
   "cell_type": "code",
   "execution_count": null,
   "id": "cb8ca721",
   "metadata": {},
   "outputs": [],
   "source": [
    "a = [1, 2, 3, 4, 5, 8, 9]"
   ]
  },
  {
   "cell_type": "code",
   "execution_count": 27,
   "id": "9cc63c5f",
   "metadata": {},
   "outputs": [],
   "source": [
    "def binary_search(item_list, item):\n",
    "    t0 = time.time()\n",
    "    first = 0\n",
    "    last = len(item_list) - 1\n",
    "    found = False \n",
    "    \n",
    "    while (first<=last and not found):\n",
    "        mid = (first+last)//2\n",
    "        if item_list[mid] == item:\n",
    "            found = True\n",
    "        else:\n",
    "            if item < item_list[mid]:\n",
    "                last = mid - 1\n",
    "            else:\n",
    "                first = mid + 1\n",
    "    t1 = time.time()\n",
    "    t2 = t1 - t0\n",
    "    print(t2)\n",
    "    return found\n",
    "    "
   ]
  },
  {
   "cell_type": "code",
   "execution_count": 35,
   "id": "818ed9b8",
   "metadata": {},
   "outputs": [
    {
     "name": "stdout",
     "output_type": "stream",
     "text": [
      "0.0\n"
     ]
    },
    {
     "data": {
      "text/plain": [
       "True"
      ]
     },
     "execution_count": 35,
     "metadata": {},
     "output_type": "execute_result"
    }
   ],
   "source": [
    "binary_search([1,2,3,4,5,7,1, 1, 1, 1, 1, 1], 7)"
   ]
  },
  {
   "cell_type": "code",
   "execution_count": 22,
   "id": "0e932160",
   "metadata": {},
   "outputs": [
    {
     "data": {
      "text/plain": [
       "2"
      ]
     },
     "execution_count": 22,
     "metadata": {},
     "output_type": "execute_result"
    }
   ],
   "source": []
  },
  {
   "cell_type": "code",
   "execution_count": null,
   "id": "f2796aa0",
   "metadata": {},
   "outputs": [],
   "source": [
    "#binary search = ordered list \n",
    "\n",
    "divide and conquer "
   ]
  },
  {
   "cell_type": "code",
   "execution_count": null,
   "id": "b19b9484",
   "metadata": {},
   "outputs": [],
   "source": [
    "[1, 2, 3, 4]"
   ]
  },
  {
   "cell_type": "code",
   "execution_count": null,
   "id": "1ecddad3",
   "metadata": {},
   "outputs": [],
   "source": [
    "#hashing\n",
    "\n",
    "\n",
    "IPFS Ethereum blockchian "
   ]
  },
  {
   "cell_type": "code",
   "execution_count": null,
   "id": "b531f3a4",
   "metadata": {},
   "outputs": [],
   "source": [
    "#hash function:\n",
    "\n",
    "mappings between an item and the slot where the item belongs"
   ]
  },
  {
   "cell_type": "code",
   "execution_count": null,
   "id": "8474b2b8",
   "metadata": {},
   "outputs": [],
   "source": [
    "[1, a ,2 , 3, 4]"
   ]
  },
  {
   "cell_type": "code",
   "execution_count": null,
   "id": "bcb64ad0",
   "metadata": {},
   "outputs": [],
   "source": [
    "#Object oriented prog (OOPS)\n",
    "\n",
    "class HashTable:\n",
    "    def _init__(self):\n",
    "        self.size = 11\n",
    "        self.slots = [None] * self.size\n",
    "        self.data = [None] * slef.size \n",
    "        \n",
    "        #size holds the hash table size\n",
    "        #slots will key items\n",
    "        #data is data \n",
    "    def hash_function(self, key, size):\n",
    "        return key%size\n",
    "    \n",
    "    def rehash(self, old_hash, size):\n",
    "        return (old_hash + 1)%size\n",
    "    \n",
    "    def put(self, key, data):\n",
    "    \n",
    "    def get(self, key):\n",
    "    \n",
    "    def insert(self)\n",
    "       "
   ]
  },
  {
   "cell_type": "code",
   "execution_count": null,
   "id": "f77f8065",
   "metadata": {},
   "outputs": [],
   "source": []
  }
 ],
 "metadata": {
  "kernelspec": {
   "display_name": "Python 3 (ipykernel)",
   "language": "python",
   "name": "python3"
  },
  "language_info": {
   "codemirror_mode": {
    "name": "ipython",
    "version": 3
   },
   "file_extension": ".py",
   "mimetype": "text/x-python",
   "name": "python",
   "nbconvert_exporter": "python",
   "pygments_lexer": "ipython3",
   "version": "3.9.13"
  }
 },
 "nbformat": 4,
 "nbformat_minor": 5
}
