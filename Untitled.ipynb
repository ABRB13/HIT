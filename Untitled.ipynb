{
 "cells": [
  {
   "cell_type": "code",
   "execution_count": null,
   "id": "029c8288",
   "metadata": {},
   "outputs": [],
   "source": [
    "import turtle\n",
    "\n",
    "paper = turtle.Screen()\n",
    "paper.setup(720,720 )   # screen setup krne ke liye\n",
    "# paper.bgcolor('black') #back-ground color\n",
    "\n",
    "pen = turtle.Turtle()\n",
    "pen.pensize(3)\n",
    "pen.speed(3)\n",
    "pen.pencolor(\"red\") \n",
    "pen.shapesize(3,3,3)\n",
    "# pen.goto(-200,5)  \n",
    "pen.left(90)\n",
    "\n",
    "# pen.write(\"Do your HomeWork As soon as possible\\nThat's how you will \\nlearn codinng\", align=\"left\", font=(\"Comic sans\", 16, \"bold\"))\n",
    "pen.pencolor('lightblue')\n",
    "\n",
    "for i in range(0,600,30):\n",
    "    \n",
    "    pen.penup()\n",
    "    pen.setpos(-200,-300+i)\n",
    "    if i==0:\n",
    "        pen.right(90)\n",
    "    pen.pendown()\n",
    "    pen.forward(400)\n",
    "    pen.backward(400)\n",
    "\n",
    "turtle.mainloop()    \n"
   ]
  },
  {
   "cell_type": "code",
   "execution_count": null,
   "id": "c9dd1661",
   "metadata": {},
   "outputs": [],
   "source": []
  }
 ],
 "metadata": {
  "kernelspec": {
   "display_name": "Python 3 (ipykernel)",
   "language": "python",
   "name": "python3"
  },
  "language_info": {
   "codemirror_mode": {
    "name": "ipython",
    "version": 3
   },
   "file_extension": ".py",
   "mimetype": "text/x-python",
   "name": "python",
   "nbconvert_exporter": "python",
   "pygments_lexer": "ipython3",
   "version": "3.9.13"
  }
 },
 "nbformat": 4,
 "nbformat_minor": 5
}
