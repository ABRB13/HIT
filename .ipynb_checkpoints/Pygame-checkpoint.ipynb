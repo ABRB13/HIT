{
 "cells": [
  {
   "cell_type": "code",
   "execution_count": 7,
   "id": "bc2d4874",
   "metadata": {},
   "outputs": [
    {
     "ename": "SystemExit",
     "evalue": "",
     "output_type": "error",
     "traceback": [
      "An exception has occurred, use %tb to see the full traceback.\n",
      "\u001b[1;31mSystemExit\u001b[0m\n"
     ]
    },
    {
     "name": "stderr",
     "output_type": "stream",
     "text": [
      "C:\\Users\\abeeravolu\\Anaconda3\\lib\\site-packages\\IPython\\core\\interactiveshell.py:3465: UserWarning: To exit: use 'exit', 'quit', or Ctrl-D.\n",
      "  warn(\"To exit: use 'exit', 'quit', or Ctrl-D.\", stacklevel=1)\n"
     ]
    }
   ],
   "source": [
    "import pygame, sys\n",
    "from pygame.locals import *\n",
    "import random\n",
    " \n",
    "pygame.init()\n",
    " \n",
    "FPS = 60\n",
    "FramePerSec = pygame.time.Clock()\n",
    " \n",
    "# Predefined some colors\n",
    "BLUE  = (0, 0, 255)\n",
    "RED   = (255, 0, 0)\n",
    "GREEN = (0, 255, 0)\n",
    "BLACK = (0, 0, 0)\n",
    "WHITE = (255, 255, 255)\n",
    " \n",
    "# Screen information\n",
    "SCREEN_WIDTH = 400\n",
    "SCREEN_HEIGHT = 600\n",
    " \n",
    "DISPLAYSURF = pygame.display.set_mode((400,600))\n",
    "DISPLAYSURF.fill(WHITE)\n",
    "pygame.display.set_caption(\"Game\")\n",
    " \n",
    "class Enemy(pygame.sprite.Sprite):\n",
    "      def __init__(self):\n",
    "        super().__init__() \n",
    "        self.image = pygame.image.load(\"walk1_9.png\")\n",
    "        self.rect = self.image.get_rect()\n",
    "        self.rect.center=(random.randint(40,SCREEN_WIDTH-40),0) \n",
    " \n",
    "      def move(self):\n",
    "        self.rect.move_ip(0,10)\n",
    "        if (self.rect.bottom > 600):\n",
    "            self.rect.top = 0\n",
    "            self.rect.center = (random.randint(30, 370), 0)\n",
    " \n",
    "      def draw(self, surface):\n",
    "        surface.blit(self.image, self.rect) \n",
    " \n",
    " \n",
    "class Player(pygame.sprite.Sprite):\n",
    "    def __init__(self):\n",
    "        super().__init__() \n",
    "        self.image = pygame.image.load(\"hazmat_scr.png\")\n",
    "        self.rect = self.image.get_rect()\n",
    "        self.rect.center = (160, 520)\n",
    " \n",
    "    def update(self):\n",
    "        pressed_keys = pygame.key.get_pressed()\n",
    "       #if pressed_keys[K_UP]:\n",
    "            #self.rect.move_ip(0, -5)\n",
    "       #if pressed_keys[K_DOWN]:\n",
    "            #self.rect.move_ip(0,5)\n",
    "         \n",
    "        if self.rect.left > 0:\n",
    "              if pressed_keys[K_LEFT]:\n",
    "                  self.rect.move_ip(-5, 0)\n",
    "        if self.rect.right < SCREEN_WIDTH:        \n",
    "              if pressed_keys[K_RIGHT]:\n",
    "                  self.rect.move_ip(5, 0)\n",
    " \n",
    "    def draw(self, surface):\n",
    "        surface.blit(self.image, self.rect)     \n",
    " \n",
    "         \n",
    "P1 = Player()\n",
    "E1 = Enemy()\n",
    " \n",
    "while True:     \n",
    "    for event in pygame.event.get():              \n",
    "        if event.type == QUIT:\n",
    "            pygame.quit()\n",
    "            sys.exit()\n",
    "    P1.update()\n",
    "    E1.move()\n",
    "     \n",
    "    DISPLAYSURF.fill(WHITE)\n",
    "    P1.draw(DISPLAYSURF)\n",
    "    E1.draw(DISPLAYSURF)\n",
    "         \n",
    "    pygame.display.update()\n",
    "    FramePerSec.tick(FPS)\n",
    "pygame.quit()"
   ]
  },
  {
   "cell_type": "code",
   "execution_count": null,
   "id": "db842078",
   "metadata": {},
   "outputs": [],
   "source": []
  }
 ],
 "metadata": {
  "kernelspec": {
   "display_name": "Python 3 (ipykernel)",
   "language": "python",
   "name": "python3"
  },
  "language_info": {
   "codemirror_mode": {
    "name": "ipython",
    "version": 3
   },
   "file_extension": ".py",
   "mimetype": "text/x-python",
   "name": "python",
   "nbconvert_exporter": "python",
   "pygments_lexer": "ipython3",
   "version": "3.9.13"
  }
 },
 "nbformat": 4,
 "nbformat_minor": 5
}
